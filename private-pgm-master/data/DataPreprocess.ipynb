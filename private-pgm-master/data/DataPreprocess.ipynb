{
 "cells": [
  {
   "cell_type": "code",
   "execution_count": 1,
   "id": "856448a3-084a-466d-b75d-adc971e2750e",
   "metadata": {},
   "outputs": [],
   "source": [
    "import pandas as pd"
   ]
  },
  {
   "cell_type": "markdown",
   "id": "4686606a-a53b-4896-9bb3-ef72af82d81e",
   "metadata": {},
   "source": [
    "# Diabetes Dataset"
   ]
  },
  {
   "cell_type": "code",
   "execution_count": 2,
   "id": "8182d08b-d327-4025-9e1e-5fb015ec6468",
   "metadata": {},
   "outputs": [],
   "source": [
    "db = pd.read_csv('diabetes.csv')"
   ]
  },
  {
   "cell_type": "code",
   "execution_count": 3,
   "id": "bb418060-642e-4a09-b904-c64e1b9eea54",
   "metadata": {},
   "outputs": [
    {
     "data": {
      "text/plain": [
       "Pregnancies  Glucose  BloodPressure  SkinThickness  Insulin  BMI   DiabetesPedigreeFunction  Age  Outcome\n",
       "17           163      72             41             114      40.9  0.817                     47   1          1\n",
       "15           136      70             32             110      37.1  0.153                     43   1          1\n",
       "2            87       58             16             52       32.7  0.166                     25   0          1\n",
       "                      0              23             0        28.9  0.773                     25   0          1\n",
       "             85       65             0              0        39.6  0.930                     27   0          1\n",
       "                                                                                                            ..\n",
       "5            106      82             30             0        39.5  0.286                     38   0          1\n",
       "             105      72             29             325      36.9  0.159                     28   0          1\n",
       "             104      74             0              0        28.8  0.153                     48   0          1\n",
       "             103      108            37             0        39.2  0.305                     65   0          1\n",
       "0            57       60             0              0        21.7  0.735                     67   0          1\n",
       "Length: 768, dtype: int64"
      ]
     },
     "execution_count": 3,
     "metadata": {},
     "output_type": "execute_result"
    }
   ],
   "source": [
    "db.value_counts()"
   ]
  },
  {
   "cell_type": "code",
   "execution_count": 4,
   "id": "0e8b6efa-1ec9-41a2-af73-1ab6b4aa3aaa",
   "metadata": {},
   "outputs": [
    {
     "data": {
      "text/plain": [
       "Index(['Pregnancies', 'Glucose', 'BloodPressure', 'SkinThickness', 'Insulin',\n",
       "       'BMI', 'DiabetesPedigreeFunction', 'Age', 'Outcome'],\n",
       "      dtype='object')"
      ]
     },
     "execution_count": 4,
     "metadata": {},
     "output_type": "execute_result"
    }
   ],
   "source": [
    "db.columns"
   ]
  },
  {
   "cell_type": "code",
   "execution_count": 5,
   "id": "8ff7db20-e3c6-47e9-9f7d-b43401ba9e8f",
   "metadata": {},
   "outputs": [
    {
     "name": "stdout",
     "output_type": "stream",
     "text": [
      "Pregnancies\n",
      "************\n",
      "Glucose\n",
      "************\n",
      "BloodPressure\n",
      "************\n",
      "SkinThickness\n",
      "************\n",
      "Insulin\n",
      "************\n",
      "BMI\n",
      "************\n",
      "DiabetesPedigreeFunction\n",
      "************\n",
      "Age\n",
      "************\n"
     ]
    }
   ],
   "source": [
    "for c in ['Pregnancies', 'Glucose', 'BloodPressure', 'SkinThickness', 'Insulin',\n",
    "       'BMI', 'DiabetesPedigreeFunction', 'Age']:\n",
    "    print(c)\n",
    "    db[c] = pd.qcut(db[c].values, 5, duplicates = 'drop').codes + 1\n",
    "\n",
    "    print('************')"
   ]
  },
  {
   "cell_type": "code",
   "execution_count": 33,
   "id": "874c5f69-3af2-4262-b1aa-e868c71f1ccb",
   "metadata": {},
   "outputs": [
    {
     "name": "stdout",
     "output_type": "stream",
     "text": [
      "Pregnancies\n",
      "5\n",
      "************\n",
      "Glucose\n",
      "5\n",
      "************\n",
      "BloodPressure\n",
      "5\n",
      "************\n",
      "SkinThickness\n",
      "4\n",
      "************\n",
      "Insulin\n",
      "3\n",
      "************\n",
      "BMI\n",
      "5\n",
      "************\n",
      "DiabetesPedigreeFunction\n",
      "5\n",
      "************\n",
      "Age\n",
      "5\n",
      "************\n",
      "Outcome\n",
      "2\n",
      "************\n"
     ]
    }
   ],
   "source": [
    "domain_db = {}\n",
    "for c in db.columns:\n",
    "    print(c)\n",
    "    print(len(db[c].value_counts()))\n",
    "    domain_db[c] = len(db[c].value_counts())\n",
    "    print('************')"
   ]
  },
  {
   "cell_type": "code",
   "execution_count": 34,
   "id": "2ff9748c-6896-417d-afdc-3eb58764dbf8",
   "metadata": {},
   "outputs": [
    {
     "data": {
      "text/plain": [
       "{'Pregnancies': 5,\n",
       " 'Glucose': 5,\n",
       " 'BloodPressure': 5,\n",
       " 'SkinThickness': 4,\n",
       " 'Insulin': 3,\n",
       " 'BMI': 5,\n",
       " 'DiabetesPedigreeFunction': 5,\n",
       " 'Age': 5,\n",
       " 'Outcome': 2}"
      ]
     },
     "execution_count": 34,
     "metadata": {},
     "output_type": "execute_result"
    }
   ],
   "source": [
    "domain_db"
   ]
  },
  {
   "cell_type": "code",
   "execution_count": 7,
   "id": "b69777e6-d874-425c-aec8-f992ec1d9b13",
   "metadata": {},
   "outputs": [
    {
     "data": {
      "text/plain": [
       "768"
      ]
     },
     "execution_count": 7,
     "metadata": {},
     "output_type": "execute_result"
    }
   ],
   "source": [
    "len(db)"
   ]
  },
  {
   "cell_type": "code",
   "execution_count": 8,
   "id": "10e16366-c2c3-44f6-8834-2ac64b4bbcba",
   "metadata": {},
   "outputs": [],
   "source": [
    "train_db = db.sample(n=(round(0.8*len(db))))\n",
    "test_db = db[~db.index.isin(train_db.index)]"
   ]
  },
  {
   "cell_type": "code",
   "execution_count": 9,
   "id": "de59058e-da91-4b62-b420-1bcf6ccb10b3",
   "metadata": {},
   "outputs": [],
   "source": [
    "Alice_db_H = train_db.sample(n=(round(0.5*len(db))))\n",
    "Bob_db_H = train_db[~train_db.index.isin(Alice_db_H.index)]"
   ]
  },
  {
   "cell_type": "code",
   "execution_count": 10,
   "id": "83d8bb39-f623-4c1f-a0f6-ed36f2fd31f2",
   "metadata": {},
   "outputs": [],
   "source": [
    "import random\n",
    "Alice = random.sample(set(db.columns), 5)\n",
    "Bob = list(set(db.columns) - set(Alice))\n",
    "\n",
    "Alice_db_V = train_db[Alice]\n",
    "Bob_db_V = train_db[Bob]"
   ]
  },
  {
   "cell_type": "code",
   "execution_count": 11,
   "id": "84e1dbf8-5790-4a16-878e-9e59c0330117",
   "metadata": {},
   "outputs": [],
   "source": [
    "train_db.to_csv('diabetes_train.csv')\n",
    "test_db.to_csv('diabetes_test.csv')\n",
    "\n",
    "Alice_db_H.to_csv('diabetes_train_alice_h.csv')\n",
    "Bob_db_H.to_csv('diabetes_train_bob_h.csv')\n",
    "\n",
    "Alice_db_V.to_csv('diabetes_train_alice_v.csv')\n",
    "Bob_db_V.to_csv('diabetes_train_bob_v.csv')"
   ]
  },
  {
   "cell_type": "markdown",
   "id": "5098646b-dd55-4bcf-b8f3-3e7de761d411",
   "metadata": {},
   "source": [
    "# NPHA Dataset"
   ]
  },
  {
   "cell_type": "code",
   "execution_count": 12,
   "id": "5f7ef68c-cb47-4d48-87c0-1fce5289a596",
   "metadata": {},
   "outputs": [],
   "source": [
    "nh = pd.read_csv('NPHA-doctor-visits.csv')"
   ]
  },
  {
   "cell_type": "code",
   "execution_count": 13,
   "id": "78d29b41-b6cc-4a0d-b6df-5a7c2a36b439",
   "metadata": {},
   "outputs": [
    {
     "data": {
      "text/plain": [
       "Index(['Number of Doctors Visited', 'Age', 'Phyiscal Health', 'Mental Health',\n",
       "       'Dental Health', 'Employment', 'Stress Keeps Patient from Sleeping',\n",
       "       'Medication Keeps Patient from Sleeping',\n",
       "       'Pain Keeps Patient from Sleeping',\n",
       "       'Bathroom Needs Keeps Patient from Sleeping',\n",
       "       'Uknown Keeps Patient from Sleeping', 'Trouble Sleeping',\n",
       "       'Prescription Sleep Medication', 'Race', 'Gender'],\n",
       "      dtype='object')"
      ]
     },
     "execution_count": 13,
     "metadata": {},
     "output_type": "execute_result"
    }
   ],
   "source": [
    "nh.columns"
   ]
  },
  {
   "cell_type": "code",
   "execution_count": 14,
   "id": "ce444154-c8de-4123-a6ea-143e85225fa5",
   "metadata": {},
   "outputs": [
    {
     "data": {
      "text/html": [
       "<div>\n",
       "<style scoped>\n",
       "    .dataframe tbody tr th:only-of-type {\n",
       "        vertical-align: middle;\n",
       "    }\n",
       "\n",
       "    .dataframe tbody tr th {\n",
       "        vertical-align: top;\n",
       "    }\n",
       "\n",
       "    .dataframe thead th {\n",
       "        text-align: right;\n",
       "    }\n",
       "</style>\n",
       "<table border=\"1\" class=\"dataframe\">\n",
       "  <thead>\n",
       "    <tr style=\"text-align: right;\">\n",
       "      <th></th>\n",
       "      <th>Number of Doctors Visited</th>\n",
       "      <th>Age</th>\n",
       "      <th>Phyiscal Health</th>\n",
       "      <th>Mental Health</th>\n",
       "      <th>Dental Health</th>\n",
       "      <th>Employment</th>\n",
       "      <th>Stress Keeps Patient from Sleeping</th>\n",
       "      <th>Medication Keeps Patient from Sleeping</th>\n",
       "      <th>Pain Keeps Patient from Sleeping</th>\n",
       "      <th>Bathroom Needs Keeps Patient from Sleeping</th>\n",
       "      <th>Uknown Keeps Patient from Sleeping</th>\n",
       "      <th>Trouble Sleeping</th>\n",
       "      <th>Prescription Sleep Medication</th>\n",
       "      <th>Race</th>\n",
       "      <th>Gender</th>\n",
       "    </tr>\n",
       "  </thead>\n",
       "  <tbody>\n",
       "    <tr>\n",
       "      <th>0</th>\n",
       "      <td>3</td>\n",
       "      <td>2</td>\n",
       "      <td>4</td>\n",
       "      <td>3</td>\n",
       "      <td>3</td>\n",
       "      <td>3</td>\n",
       "      <td>0</td>\n",
       "      <td>0</td>\n",
       "      <td>0</td>\n",
       "      <td>0</td>\n",
       "      <td>1</td>\n",
       "      <td>2</td>\n",
       "      <td>3</td>\n",
       "      <td>1</td>\n",
       "      <td>2</td>\n",
       "    </tr>\n",
       "    <tr>\n",
       "      <th>1</th>\n",
       "      <td>2</td>\n",
       "      <td>2</td>\n",
       "      <td>4</td>\n",
       "      <td>2</td>\n",
       "      <td>3</td>\n",
       "      <td>3</td>\n",
       "      <td>1</td>\n",
       "      <td>0</td>\n",
       "      <td>0</td>\n",
       "      <td>1</td>\n",
       "      <td>0</td>\n",
       "      <td>3</td>\n",
       "      <td>3</td>\n",
       "      <td>1</td>\n",
       "      <td>1</td>\n",
       "    </tr>\n",
       "    <tr>\n",
       "      <th>2</th>\n",
       "      <td>3</td>\n",
       "      <td>2</td>\n",
       "      <td>3</td>\n",
       "      <td>2</td>\n",
       "      <td>3</td>\n",
       "      <td>3</td>\n",
       "      <td>0</td>\n",
       "      <td>0</td>\n",
       "      <td>0</td>\n",
       "      <td>0</td>\n",
       "      <td>1</td>\n",
       "      <td>3</td>\n",
       "      <td>3</td>\n",
       "      <td>4</td>\n",
       "      <td>1</td>\n",
       "    </tr>\n",
       "    <tr>\n",
       "      <th>3</th>\n",
       "      <td>1</td>\n",
       "      <td>2</td>\n",
       "      <td>3</td>\n",
       "      <td>2</td>\n",
       "      <td>3</td>\n",
       "      <td>3</td>\n",
       "      <td>0</td>\n",
       "      <td>0</td>\n",
       "      <td>0</td>\n",
       "      <td>1</td>\n",
       "      <td>0</td>\n",
       "      <td>3</td>\n",
       "      <td>3</td>\n",
       "      <td>4</td>\n",
       "      <td>2</td>\n",
       "    </tr>\n",
       "    <tr>\n",
       "      <th>4</th>\n",
       "      <td>3</td>\n",
       "      <td>2</td>\n",
       "      <td>3</td>\n",
       "      <td>3</td>\n",
       "      <td>3</td>\n",
       "      <td>3</td>\n",
       "      <td>1</td>\n",
       "      <td>0</td>\n",
       "      <td>0</td>\n",
       "      <td>0</td>\n",
       "      <td>0</td>\n",
       "      <td>2</td>\n",
       "      <td>3</td>\n",
       "      <td>1</td>\n",
       "      <td>2</td>\n",
       "    </tr>\n",
       "  </tbody>\n",
       "</table>\n",
       "</div>"
      ],
      "text/plain": [
       "   Number of Doctors Visited  Age  Phyiscal Health  Mental Health  \\\n",
       "0                          3    2                4              3   \n",
       "1                          2    2                4              2   \n",
       "2                          3    2                3              2   \n",
       "3                          1    2                3              2   \n",
       "4                          3    2                3              3   \n",
       "\n",
       "   Dental Health  Employment  Stress Keeps Patient from Sleeping  \\\n",
       "0              3           3                                   0   \n",
       "1              3           3                                   1   \n",
       "2              3           3                                   0   \n",
       "3              3           3                                   0   \n",
       "4              3           3                                   1   \n",
       "\n",
       "   Medication Keeps Patient from Sleeping  Pain Keeps Patient from Sleeping  \\\n",
       "0                                       0                                 0   \n",
       "1                                       0                                 0   \n",
       "2                                       0                                 0   \n",
       "3                                       0                                 0   \n",
       "4                                       0                                 0   \n",
       "\n",
       "   Bathroom Needs Keeps Patient from Sleeping  \\\n",
       "0                                           0   \n",
       "1                                           1   \n",
       "2                                           0   \n",
       "3                                           1   \n",
       "4                                           0   \n",
       "\n",
       "   Uknown Keeps Patient from Sleeping  Trouble Sleeping  \\\n",
       "0                                   1                 2   \n",
       "1                                   0                 3   \n",
       "2                                   1                 3   \n",
       "3                                   0                 3   \n",
       "4                                   0                 2   \n",
       "\n",
       "   Prescription Sleep Medication  Race  Gender  \n",
       "0                              3     1       2  \n",
       "1                              3     1       1  \n",
       "2                              3     4       1  \n",
       "3                              3     4       2  \n",
       "4                              3     1       2  "
      ]
     },
     "execution_count": 14,
     "metadata": {},
     "output_type": "execute_result"
    }
   ],
   "source": [
    "nh.head()"
   ]
  },
  {
   "cell_type": "code",
   "execution_count": 31,
   "id": "3069eda0-636e-48c4-8b5b-05c1e0bf1e96",
   "metadata": {},
   "outputs": [
    {
     "name": "stdout",
     "output_type": "stream",
     "text": [
      "Number of Doctors Visited\n",
      "3\n",
      "************\n",
      "Age\n",
      "1\n",
      "************\n",
      "Phyiscal Health\n",
      "6\n",
      "************\n",
      "Mental Health\n",
      "6\n",
      "************\n",
      "Dental Health\n",
      "7\n",
      "************\n",
      "Employment\n",
      "4\n",
      "************\n",
      "Stress Keeps Patient from Sleeping\n",
      "2\n",
      "************\n",
      "Medication Keeps Patient from Sleeping\n",
      "2\n",
      "************\n",
      "Pain Keeps Patient from Sleeping\n",
      "2\n",
      "************\n",
      "Bathroom Needs Keeps Patient from Sleeping\n",
      "2\n",
      "************\n",
      "Uknown Keeps Patient from Sleeping\n",
      "2\n",
      "************\n",
      "Trouble Sleeping\n",
      "4\n",
      "************\n",
      "Prescription Sleep Medication\n",
      "4\n",
      "************\n",
      "Race\n",
      "5\n",
      "************\n",
      "Gender\n",
      "2\n",
      "************\n"
     ]
    }
   ],
   "source": [
    "domain_nh = {}\n",
    "for c in nh.columns:\n",
    "    print(c)\n",
    "    print(len(nh[c].value_counts()))\n",
    "    domain_nh[c] = len(nh[c].value_counts())\n",
    "    print('************')"
   ]
  },
  {
   "cell_type": "code",
   "execution_count": 32,
   "id": "63a8aad9-5874-4e0a-a507-a65fa7f3e6f1",
   "metadata": {},
   "outputs": [
    {
     "data": {
      "text/plain": [
       "{'Number of Doctors Visited': 3,\n",
       " 'Age': 1,\n",
       " 'Phyiscal Health': 6,\n",
       " 'Mental Health': 6,\n",
       " 'Dental Health': 7,\n",
       " 'Employment': 4,\n",
       " 'Stress Keeps Patient from Sleeping': 2,\n",
       " 'Medication Keeps Patient from Sleeping': 2,\n",
       " 'Pain Keeps Patient from Sleeping': 2,\n",
       " 'Bathroom Needs Keeps Patient from Sleeping': 2,\n",
       " 'Uknown Keeps Patient from Sleeping': 2,\n",
       " 'Trouble Sleeping': 4,\n",
       " 'Prescription Sleep Medication': 4,\n",
       " 'Race': 5,\n",
       " 'Gender': 2}"
      ]
     },
     "execution_count": 32,
     "metadata": {},
     "output_type": "execute_result"
    }
   ],
   "source": [
    "domain_nh"
   ]
  },
  {
   "cell_type": "code",
   "execution_count": 16,
   "id": "0bcabf35-a804-4c62-a5e1-d58ddad5fc14",
   "metadata": {},
   "outputs": [],
   "source": [
    "train_nh = nh.sample(n=(round(0.8*len(nh))))\n",
    "test_nh = nh[~nh.index.isin(train_nh.index)]"
   ]
  },
  {
   "cell_type": "code",
   "execution_count": 17,
   "id": "6c953e2e-eaa2-43d1-b05c-039f069c550e",
   "metadata": {},
   "outputs": [],
   "source": [
    "Alice_nh_H = train_nh.sample(n=(round(0.5*len(nh))))\n",
    "Bob_nh_H = train_nh[~train_nh.index.isin(Alice_nh_H.index)]"
   ]
  },
  {
   "cell_type": "code",
   "execution_count": 18,
   "id": "aa207740-63f5-47b7-b380-45f94de3b963",
   "metadata": {},
   "outputs": [],
   "source": [
    "import random\n",
    "Alice = random.sample(set(nh.columns), 8)\n",
    "Bob = list(set(nh.columns) - set(Alice))\n",
    "\n",
    "Alice_nh_V = train_nh[Alice]\n",
    "Bob_nh_V = train_nh[Bob]"
   ]
  },
  {
   "cell_type": "code",
   "execution_count": 19,
   "id": "228d2081-ade6-44af-8819-cbead4b2aee6",
   "metadata": {},
   "outputs": [],
   "source": [
    "train_nh.to_csv('NPHA_train.csv')\n",
    "test_nh.to_csv('NPHA_test.csv')\n",
    "\n",
    "Alice_nh_H.to_csv('NPHA_train_alice_h.csv')\n",
    "Bob_nh_H.to_csv('NPHA_train_bob_h.csv')\n",
    "\n",
    "Alice_nh_V.to_csv('NPHA_train_alice_v.csv')\n",
    "Bob_nh_V.to_csv('NPHA_train_bob_v.csv')"
   ]
  },
  {
   "cell_type": "markdown",
   "id": "754912ba-11d3-4df1-aac5-d81d7d85d97f",
   "metadata": {},
   "source": [
    "# COMPAS Dataset"
   ]
  },
  {
   "cell_type": "code",
   "execution_count": 20,
   "id": "69365d38-c877-4863-9a31-14c9b2453604",
   "metadata": {},
   "outputs": [],
   "source": [
    "cp = pd.read_csv('compass_processed_train.csv')"
   ]
  },
  {
   "cell_type": "code",
   "execution_count": 21,
   "id": "469892fa-6186-4ca6-8324-efd7f5a4d6f2",
   "metadata": {},
   "outputs": [],
   "source": [
    "cpt = pd.read_csv('compass_processed_test.csv')"
   ]
  },
  {
   "cell_type": "code",
   "execution_count": 22,
   "id": "457ba5ac-e806-4638-a37f-6daceffdae9b",
   "metadata": {},
   "outputs": [],
   "source": [
    "cpt = cpt.drop('Unnamed: 0', axis = 1)\n",
    "cp = cp.drop('Unnamed: 0', axis = 1)"
   ]
  },
  {
   "cell_type": "code",
   "execution_count": 29,
   "id": "75465850-4998-4133-955c-43fcfa8bfd9e",
   "metadata": {},
   "outputs": [
    {
     "name": "stdout",
     "output_type": "stream",
     "text": [
      "jfel\n",
      "3\n",
      "************\n",
      "jmis\n",
      "3\n",
      "************\n",
      "jot\n",
      "3\n",
      "************\n",
      "pri\n",
      "2\n",
      "************\n",
      "gender\n",
      "2\n",
      "************\n",
      "age\n",
      "3\n",
      "************\n",
      "charge\n",
      "2\n",
      "************\n",
      "Race\n",
      "2\n",
      "************\n",
      "two_year_recid\n",
      "2\n",
      "************\n"
     ]
    }
   ],
   "source": [
    "\n",
    "domain_cp = {}\n",
    "for c in cp.columns:\n",
    "    print(c)\n",
    "    print(len(cp[c].value_counts()))\n",
    "    domain_cp[c] = len(cp[c].value_counts())\n",
    "    print('************')"
   ]
  },
  {
   "cell_type": "code",
   "execution_count": 30,
   "id": "cb3949c4-0243-45eb-b930-b974c8b87b90",
   "metadata": {},
   "outputs": [
    {
     "data": {
      "text/plain": [
       "{'jfel': 3,\n",
       " 'jmis': 3,\n",
       " 'jot': 3,\n",
       " 'pri': 2,\n",
       " 'gender': 2,\n",
       " 'age': 3,\n",
       " 'charge': 2,\n",
       " 'Race': 2,\n",
       " 'two_year_recid': 2}"
      ]
     },
     "execution_count": 30,
     "metadata": {},
     "output_type": "execute_result"
    }
   ],
   "source": [
    "domain_cp"
   ]
  },
  {
   "cell_type": "code",
   "execution_count": 24,
   "id": "907439e2-8fb4-44d1-a2f4-28a1b338304f",
   "metadata": {},
   "outputs": [],
   "source": [
    "Alice_cp_H = cp.sample(n=(round(0.5*len(cp))))\n",
    "Bob_cp_H = cp[~cp.index.isin(Alice_cp_H.index)]"
   ]
  },
  {
   "cell_type": "code",
   "execution_count": 25,
   "id": "f479fe20-684d-4d4b-8bea-bd17f350a805",
   "metadata": {},
   "outputs": [],
   "source": [
    "import random\n",
    "Alice = random.sample(set(cp.columns), 5)\n",
    "Bob = list(set(cp.columns) - set(Alice))\n",
    "\n",
    "Alice_cp_V = cp[Alice]\n",
    "Bob_cp_V = cp[Bob]"
   ]
  },
  {
   "cell_type": "code",
   "execution_count": 26,
   "id": "c20fd86d-f8d1-44e2-8105-d9584aa22a88",
   "metadata": {},
   "outputs": [],
   "source": [
    "cp.to_csv('COMPAS_train.csv')\n",
    "cpt.to_csv('COMPAS_test.csv')\n",
    "\n",
    "Alice_cp_H.to_csv('COMPAS_train_alice_h.csv')\n",
    "Bob_cp_H.to_csv('COMPAS_train_bob_h.csv')\n",
    "\n",
    "Alice_cp_V.to_csv('COMPAS_train_alice_v.csv')\n",
    "Bob_cp_V.to_csv('COMPAS_train_bob_v.csv')"
   ]
  },
  {
   "cell_type": "code",
   "execution_count": null,
   "id": "0e85d9db-f2fe-4bb7-acf5-ed463d9d6765",
   "metadata": {},
   "outputs": [],
   "source": []
  }
 ],
 "metadata": {
  "kernelspec": {
   "display_name": "Python 3 (ipykernel)",
   "language": "python",
   "name": "python3"
  },
  "language_info": {
   "codemirror_mode": {
    "name": "ipython",
    "version": 3
   },
   "file_extension": ".py",
   "mimetype": "text/x-python",
   "name": "python",
   "nbconvert_exporter": "python",
   "pygments_lexer": "ipython3",
   "version": "3.8.12"
  }
 },
 "nbformat": 4,
 "nbformat_minor": 5
}
